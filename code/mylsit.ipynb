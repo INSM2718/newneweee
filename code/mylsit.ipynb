{
 "cells": [
  {
   "cell_type": "code",
   "execution_count": 1,
   "metadata": {},
   "outputs": [],
   "source": [
    "import sys"
   ]
  },
  {
   "cell_type": "code",
   "execution_count": 2,
   "metadata": {},
   "outputs": [
    {
     "data": {
      "text/plain": [
       "'3.10.4 (main, Apr  3 2023, 22:35:52) [GCC 9.4.0]'"
      ]
     },
     "execution_count": 2,
     "metadata": {},
     "output_type": "execute_result"
    }
   ],
   "source": [
    "sys.version"
   ]
  },
  {
   "cell_type": "code",
   "execution_count": 5,
   "metadata": {},
   "outputs": [
    {
     "name": "stdout",
     "output_type": "stream",
     "text": [
      "입력한 ID: 123456\n",
      "암호화해 저장된 ID: 2855970\n",
      "로그인 성공: True\n"
     ]
    }
   ],
   "source": [
    "orgPwd = int(input('ID로 사용할 여덟자리의 정수를 입력하세요 >>'))\n",
    "keyMask = 2782818 \n",
    "encPwd = orgPwd ^ keyMask \n",
    "print('입력한 ID: %d' % orgPwd)\n",
    "print('암호화해 저장된 ID: %d' % encPwd)\n",
    "inPwd = int(input('로그인할 ID를 입력하세요'))\n",
    "result= encPwd ^ keyMask \n",
    "print('로그인 성공: {}'.format(inPwd==result))\n"
   ]
  },
  {
   "cell_type": "code",
   "execution_count": 6,
   "metadata": {},
   "outputs": [
    {
     "name": "stdout",
     "output_type": "stream",
     "text": [
      "x: 10 is even\n"
     ]
    }
   ],
   "source": [
    "x = 10 \n",
    "s = 'even' if x % 2 == 0 else 'odd'\n",
    "print(f'x: {x} is {s}')"
   ]
  },
  {
   "cell_type": "code",
   "execution_count": 7,
   "metadata": {},
   "outputs": [
    {
     "name": "stdout",
     "output_type": "stream",
     "text": [
      "미세먼지 농도 : 140.00, 등급: 나쁨\n"
     ]
    }
   ],
   "source": [
    "PM = float(input('미세먼지(10마이크로그램의)의 농도는 ? '))\n",
    "if 151 <= PM:\n",
    "    print('미세먼지 농도 : {:.2f}, 등급: {}'.format(PM, '매우나쁨'))\n",
    "elif 81 <= PM:\n",
    "    print('미세먼지 농도 : {:.2f}, 등급: {}'.format(PM, '나쁨'))\n",
    "elif 31 <= PM:\n",
    "    print('미세먼지 농도 : {:.2f}, 등급: {}'.format(PM, '보통'))\n",
    "else:\n",
    "    print('미세먼지 농도 : {:.2f}, 등급: {}'.format(PM, '좋음'))"
   ]
  },
  {
   "cell_type": "code",
   "execution_count": null,
   "metadata": {},
   "outputs": [],
   "source": []
  }
 ],
 "metadata": {
  "kernelspec": {
   "display_name": "Python 3",
   "language": "python",
   "name": "python3"
  },
  "language_info": {
   "codemirror_mode": {
    "name": "ipython",
    "version": 3
   },
   "file_extension": ".py",
   "mimetype": "text/x-python",
   "name": "python",
   "nbconvert_exporter": "python",
   "pygments_lexer": "ipython3",
   "version": "3.10.4"
  },
  "orig_nbformat": 4
 },
 "nbformat": 4,
 "nbformat_minor": 2
}
